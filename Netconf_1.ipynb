{
  "nbformat": 4,
  "nbformat_minor": 0,
  "metadata": {
    "colab": {
      "name": "Untitled8.ipynb",
      "provenance": [],
      "authorship_tag": "ABX9TyMvqMAIFN1fXHUxD4bonV/O",
      "include_colab_link": true
    },
    "kernelspec": {
      "name": "python3",
      "display_name": "Python 3"
    }
  },
  "cells": [
    {
      "cell_type": "markdown",
      "metadata": {
        "id": "view-in-github",
        "colab_type": "text"
      },
      "source": [
        "<a href=\"https://colab.research.google.com/github/stefanoridolfi/Dev-Net/blob/master/Netconf_1.ipynb\" target=\"_parent\"><img src=\"https://colab.research.google.com/assets/colab-badge.svg\" alt=\"Open In Colab\"/></a>"
      ]
    },
    {
      "cell_type": "code",
      "metadata": {
        "id": "RG2x3nYUhztg",
        "colab_type": "code",
        "colab": {}
      },
      "source": [
        "#!pip install ncclient\n",
        "from ncclient import manager\n",
        "HOST='78.5.205.46'\n",
        "PORT='830'\n",
        "USER='pi'\n",
        "PASS='raspberry'\n",
        "with manager.connect(host=HOST,port=PORT,username=USER,password=PASS,hostkey_verify=False) as m: \n",
        "  for capability in  m.server_capabilities:\n",
        "    print(capability.split('?')[0])\n",
        "  \n",
        "m = manager.connect(host='78.5.205.46', port=830, username='pi',\n",
        "                    password='raspberry', device_params={'name': 'csr'})\n",
        "\n",
        "print (m.connected)\n",
        "for c in m.server_capabilities:\n",
        "    print (c)\n",
        "running_config = m.get_config('running')\n",
        "print(running_config)\n",
        "\n",
        "\n",
        "def create_interface_ip(conn, interface, ip, mask):\n",
        "    try:\n",
        "        config_str = CREATE_INTERFACE_IP % (interface, ip, mask)\n",
        "        rpc_sent = conn.edit_config(target='running', config=config_str)\n",
        "    except Exception:\n",
        "        print('Exception occurs while creating interface %s' % interface) \n",
        "create_interface_ip(m, \"Ethernet0/0\", '10.0.0.2', '255.255.255.252')\n"
      ],
      "execution_count": 0,
      "outputs": []
    }
  ]
}