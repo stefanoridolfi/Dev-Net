{
  "nbformat": 4,
  "nbformat_minor": 0,
  "metadata": {
    "colab": {
      "name": "Untitled4.ipynb",
      "provenance": [],
      "authorship_tag": "ABX9TyMCQxgX3SaUd1oUJ+O5m03C",
      "include_colab_link": true
    },
    "kernelspec": {
      "name": "python3",
      "display_name": "Python 3"
    }
  },
  "cells": [
    {
      "cell_type": "markdown",
      "metadata": {
        "id": "view-in-github",
        "colab_type": "text"
      },
      "source": [
        "<a href=\"https://colab.research.google.com/github/stefanoridolfi/Dev-Net/blob/master/API_1.ipynb\" target=\"_parent\"><img src=\"https://colab.research.google.com/assets/colab-badge.svg\" alt=\"Open In Colab\"/></a>"
      ]
    },
    {
      "cell_type": "code",
      "metadata": {
        "id": "W1NehvIMHZOA",
        "colab_type": "code",
        "colab": {}
      },
      "source": [
        "'''\n",
        "from google.colab import files\n",
        "from google.colab import drive\n",
        "#drive.mount('/content/drive')\n",
        "import sys\n",
        "#sys.path.append('/content/drive/My Drive/DEV-NET/Python_script')\n",
        "#print(sys.path)\n",
        "#!ls \"/content/drive/My Drive/DEV-NET/Python_script/\"\n",
        "'''\n",
        "import requests as req\n",
        "URI='https://github.com/apps/devnet-app/bb'\n",
        "response=req.get(URI)\n",
        "code=response.status_code\n",
        "print(\"Response code:\",code)\n",
        "if code==200:\n",
        "  print('Success')\n",
        "elif code==404:\n",
        "  print('Not found')  \n",
        "\n"
      ],
      "execution_count": 0,
      "outputs": []
    },
    {
      "cell_type": "code",
      "metadata": {
        "id": "wTQ3_2rIZ2Ns",
        "colab_type": "code",
        "colab": {
          "base_uri": "https://localhost:8080/",
          "height": 105
        },
        "outputId": "54921321-97e5-4e28-b6ef-77f47ceb2d31"
      },
      "source": [
        "import json\n",
        "import requests as req\n",
        "token=\"DTEA2tPs2trtWrTIDwoc_Jxx-sTrGlFznAWk\"\n",
        "url='https://gorest.co.in/public-api/users'\n",
        "hed = {'Authorization': 'Bearer ' + token}\n",
        "data={\n",
        "    \"email\":\"email@ex.com\",\n",
        "    \"first_name\": \"devnet\",\n",
        "    \"last_name\": \"assso\",\n",
        "    \"gender\": \"male\"\n",
        "}\n",
        "result=req.get(url,headers=hed)\n",
        "print(\"Code:\",result.status_code)\n",
        "print(\"Content:\",result.content.decode())\n",
        "result=req.post(url,json=data, headers=hed)\n",
        "print(\"Code:\",result.status_code)\n",
        "print(\"Content:\",result.content.decode())\n"
      ],
      "execution_count": 24,
      "outputs": [
        {
          "output_type": "stream",
          "text": [
            "Code: 200\n",
            "Content: {\"_meta\":{\"success\":true,\"code\":200,\"message\":\"OK. Everything worked as expected.\",\"totalCount\":2260,\"pageCount\":113,\"currentPage\":1,\"perPage\":20,\"rateLimit\":{\"limit\":30,\"remaining\":29,\"reset\":2}},\"result\":[{\"id\":\"839\",\"first_name\":\"Dalton\",\"last_name\":\"Schmeler\",\"gender\":\"male\",\"dob\":\"2009-09-28\",\"email\":\"lehner.damian@example.com\",\"phone\":\"(317) 510-9925 x0987\",\"website\":\"http://zemlak.biz/ut-fugit-reprehenderit-rerum-consequatur.html\",\"address\":\"3119 Feeney Ford\\nEast Darianaton, CA 79574-7056\",\"status\":\"active\",\"_links\":{\"self\":{\"href\":\"https://gorest.co.in/public-api/users/839\"},\"edit\":{\"href\":\"https://gorest.co.in/public-api/users/839\"},\"avatar\":{\"href\":\"https://lorempixel.com/250/250/people/?60461\"}}},{\"id\":\"842\",\"first_name\":\"Margarita\",\"last_name\":\"Cruickshank\",\"gender\":\"female\",\"dob\":\"1944-07-10\",\"email\":\"hamill.katherine@example.org\",\"phone\":\"+1 (445) 401-4789\",\"website\":\"http://schuppe.com/\",\"address\":\"23701 Abshire Forest\\nLake Yvette, DC 77948-2827\",\"status\":\"inactive\",\"_links\":{\"self\":{\"href\":\"https://gorest.co.in/public-api/users/842\"},\"edit\":{\"href\":\"https://gorest.co.in/public-api/users/842\"},\"avatar\":{\"href\":\"https://lorempixel.com/250/250/people/?78701\"}}},{\"id\":\"843\",\"first_name\":\"Javonte\",\"last_name\":\"Pouros\",\"gender\":\"male\",\"dob\":\"1932-05-15\",\"email\":\"tod.kreiger@example.com\",\"phone\":\"407-398-7828\",\"website\":\"http://tromp.org/nihil-atque-et-ut-est-molestias-libero-debitis.html\",\"address\":\"4347 Peggie Mews Apt. 439\\nEast Katlynnborough, TN 26566-7406\",\"status\":\"active\",\"_links\":{\"self\":{\"href\":\"https://gorest.co.in/public-api/users/843\"},\"edit\":{\"href\":\"https://gorest.co.in/public-api/users/843\"},\"avatar\":{\"href\":\"https://lorempixel.com/250/250/people/?74457\"}}},{\"id\":\"844\",\"first_name\":\"Noble\",\"last_name\":\"Ankunding\",\"gender\":\"male\",\"dob\":\"2010-11-23\",\"email\":\"maeve.farrell@example.com\",\"phone\":\"1-245-710-5599 x55794\",\"website\":\"http://www.hettinger.com/\",\"address\":\"722 Armstrong Plaza\\nLake Esperanza, MN 21259\",\"status\":\"inactive\",\"_links\":{\"self\":{\"href\":\"https://gorest.co.in/public-api/users/844\"},\"edit\":{\"href\":\"https://gorest.co.in/public-api/users/844\"},\"avatar\":{\"href\":\"https://lorempixel.com/250/250/people/?45341\"}}},{\"id\":\"845\",\"first_name\":\"Adrian\",\"last_name\":\"McDermott\",\"gender\":\"male\",\"dob\":\"1998-12-14\",\"email\":\"mayer.jose@example.org\",\"phone\":\"(372) 521-5052 x9926\",\"website\":\"http://www.crist.com/eaque-autem-ut-et-sunt-ratione-dignissimos.html\",\"address\":\"4988 Danika Forest\\nCronaland, WI 45529\",\"status\":\"inactive\",\"_links\":{\"self\":{\"href\":\"https://gorest.co.in/public-api/users/845\"},\"edit\":{\"href\":\"https://gorest.co.in/public-api/users/845\"},\"avatar\":{\"href\":\"https://lorempixel.com/250/250/people/?20118\"}}},{\"id\":\"846\",\"first_name\":\"Amaya\",\"last_name\":\"Balistreri\",\"gender\":\"female\",\"dob\":\"1989-06-30\",\"email\":\"fritz.blanda@example.org\",\"phone\":\"334.329.8641 x5417\",\"website\":\"http://greenfelder.com/ut-modi-officia-et.html\",\"address\":\"215 Hane Rapid\\nKylechester, WV 80387\",\"status\":\"active\",\"_links\":{\"self\":{\"href\":\"https://gorest.co.in/public-api/users/846\"},\"edit\":{\"href\":\"https://gorest.co.in/public-api/users/846\"},\"avatar\":{\"href\":\"https://lorempixel.com/250/250/people/?22736\"}}},{\"id\":\"848\",\"first_name\":\"Misty\",\"last_name\":\"Gulgowski\",\"gender\":\"female\",\"dob\":\"1981-03-02\",\"email\":\"hyman.prosacco@example.com\",\"phone\":\"(991) 372-0576\",\"website\":\"http://www.keeling.com/itaque-voluptas-saepe-aliquid-molestias-mollitia-ipsam-impedit-est.html\",\"address\":\"29073 Bechtelar Views\\nJastport, MA 44833\",\"status\":\"active\",\"_links\":{\"self\":{\"href\":\"https://gorest.co.in/public-api/users/848\"},\"edit\":{\"href\":\"https://gorest.co.in/public-api/users/848\"},\"avatar\":{\"href\":\"https://lorempixel.com/250/250/people/?17748\"}}},{\"id\":\"849\",\"first_name\":\"Kelsi\",\"last_name\":\"Armstrong\",\"gender\":\"female\",\"dob\":\"1928-10-27\",\"email\":\"henriette92@example.net\",\"phone\":\"665.691.2018\",\"website\":\"http://fahey.com/non-nesciunt-sed-dolor-quam\",\"address\":\"45431 Sarah Rue Suite 657Carterburgh, MI 82425-1775\",\"status\":\"inactive\",\"_links\":{\"self\":{\"href\":\"https://gorest.co.in/public-api/users/849\"},\"edit\":{\"href\":\"https://gorest.co.in/public-api/users/849\"},\"avatar\":{\"href\":\"https://image.freepik.com/free-vector/_24877-11464.jpg\"}}},{\"id\":\"851\",\"first_name\":\"Candida\",\"last_name\":\"Reinger\",\"gender\":\"female\",\"dob\":\"1957-01-20\",\"email\":\"eprohaska@example.org\",\"phone\":\"426-999-4910 x090\",\"website\":\"https://www.mann.com/qui-sunt-esse-velit-voluptas-amet\",\"address\":\"3752 Sallie Brooks Apt. 591\\nEast Abbigailside, MD 69821-3410\",\"status\":\"active\",\"_links\":{\"self\":{\"href\":\"https://gorest.co.in/public-api/users/851\"},\"edit\":{\"href\":\"https://gorest.co.in/public-api/users/851\"},\"avatar\":{\"href\":\"https://lorempixel.com/250/250/people/?91868\"}}},{\"id\":\"852\",\"first_name\":\"Alanna\",\"last_name\":\"Russel\",\"gender\":\"female\",\"dob\":\"1992-05-04\",\"email\":\"willis57@example.org\",\"phone\":\"+1-773-646-8777\",\"website\":\"http://bosco.com/quia-ut-ut-iste-nisi-sit-cupiditate\",\"address\":\"3217 Jeanette Turnpike Apt. 239\\nWest Charleneville, KY 90545\",\"status\":\"active\",\"_links\":{\"self\":{\"href\":\"https://gorest.co.in/public-api/users/852\"},\"edit\":{\"href\":\"https://gorest.co.in/public-api/users/852\"},\"avatar\":{\"href\":\"https://lorempixel.com/250/250/people/?75294\"}}},{\"id\":\"853\",\"first_name\":\"Bobby\",\"last_name\":\"Thompson\",\"gender\":\"male\",\"dob\":\"2002-08-09\",\"email\":\"vonrueden.rhianna@example.com\",\"phone\":\"1-769-283-2802\",\"website\":\"http://homenick.com/\",\"address\":\"258 Teresa Heights\\nKlinghaven, OK 68500-4478\",\"status\":\"inactive\",\"_links\":{\"self\":{\"href\":\"https://gorest.co.in/public-api/users/853\"},\"edit\":{\"href\":\"https://gorest.co.in/public-api/users/853\"},\"avatar\":{\"href\":\"https://lorempixel.com/250/250/people/?40955\"}}},{\"id\":\"854\",\"first_name\":\"Candelario\",\"last_name\":\"Sanford\",\"gender\":\"male\",\"dob\":\"1952-05-19\",\"email\":\"vboyer@example.net\",\"phone\":\"372-852-8591 x51538\",\"website\":\"https://rau.com/repellendus-suscipit-qui-illo-labore.html\",\"address\":\"5594 Valentin Roads Suite 891\\nDejamouth, NC 25462-3797\",\"status\":\"active\",\"_links\":{\"self\":{\"href\":\"https://gorest.co.in/public-api/users/854\"},\"edit\":{\"href\":\"https://gorest.co.in/public-api/users/854\"},\"avatar\":{\"href\":\"https://lorempixel.com/250/250/people/?48197\"}}},{\"id\":\"855\",\"first_name\":\"Metin\",\"last_name\":\"Turk\",\"gender\":\"male\",\"dob\":\"1992-11-18\",\"email\":\"kmurazik@example.net\",\"phone\":\"168-672-7532 x8724\",\"website\":\"https://www.heaney.com\",\"address\":\"771 Marquardt ParkwaysKuhlmanfort, DC 12392-7213\",\"status\":\"active\",\"_links\":{\"self\":{\"href\":\"https://gorest.co.in/public-api/users/855\"},\"edit\":{\"href\":\"https://gorest.co.in/public-api/users/855\"},\"avatar\":{\"href\":\"https://lorempixel.com/250/250/people/?63401\"}}},{\"id\":\"856\",\"first_name\":\"Benny\",\"last_name\":\"Stanton\",\"gender\":\"male\",\"dob\":\"2007-10-29\",\"email\":\"bianka.durgan@example.com\",\"phone\":\"502-975-7101\",\"website\":\"http://www.walker.biz/\",\"address\":\"73266 Ahmad Drive Suite 632\\nNorth Consuelofort, DC 36202\",\"status\":\"inactive\",\"_links\":{\"self\":{\"href\":\"https://gorest.co.in/public-api/users/856\"},\"edit\":{\"href\":\"https://gorest.co.in/public-api/users/856\"},\"avatar\":{\"href\":\"https://lorempixel.com/250/250/people/?78265\"}}},{\"id\":\"857\",\"first_name\":\"Alphonso\",\"last_name\":\"Marks\",\"gender\":\"male\",\"dob\":\"2009-08-03\",\"email\":\"rweissnat@example.net\",\"phone\":\"315.789.8096 x819\",\"website\":\"http://www.grant.com/dicta-necessitatibus-quasi-fugiat-rem\",\"address\":\"34968 Block Ford Suite 838\\nHaileyfort, CA 45627-1737\",\"status\":\"inactive\",\"_links\":{\"self\":{\"href\":\"https://gorest.co.in/public-api/users/857\"},\"edit\":{\"href\":\"https://gorest.co.in/public-api/users/857\"},\"avatar\":{\"href\":\"https://lorempixel.com/250/250/people/?18733\"}}},{\"id\":\"858\",\"first_name\":\"Imogene\",\"last_name\":\"Stracke\",\"gender\":\"female\",\"dob\":\"1942-10-18\",\"email\":\"vlowe@example.net\",\"phone\":\"767.676.7544 x92474\",\"website\":\"http://www.schiller.com/ut-saepe-voluptatem-ea-assumenda-debitis-aperiam-cumque\",\"address\":\"56709 Weissnat Motorway\\nWest Robb, ND 41777-3283\",\"status\":\"active\",\"_links\":{\"self\":{\"href\":\"https://gorest.co.in/public-api/users/858\"},\"edit\":{\"href\":\"https://gorest.co.in/public-api/users/858\"},\"avatar\":{\"href\":\"https://lorempixel.com/250/250/people/?83707\"}}},{\"id\":\"859\",\"first_name\":\"Pierre\",\"last_name\":\"Grimes\",\"gender\":\"male\",\"dob\":\"2012-08-24\",\"email\":\"qhettinger@example.net\",\"phone\":\"(564) 675-4302 x68078\",\"website\":\"http://www.kertzmann.net/non-neque-distinctio-dignissimos-doloribus-et\",\"address\":\"2827 Rosemarie Islands\\nPort Edisonview, WA 43476\",\"status\":\"inactive\",\"_links\":{\"self\":{\"href\":\"https://gorest.co.in/public-api/users/859\"},\"edit\":{\"href\":\"https://gorest.co.in/public-api/users/859\"},\"avatar\":{\"href\":\"https://lorempixel.com/250/250/people/?83637\"}}},{\"id\":\"860\",\"first_name\":\"Dianna\",\"last_name\":\"Farrell\",\"gender\":\"female\",\"dob\":\"2008-04-29\",\"email\":\"deckow.pattie@example.org\",\"phone\":\"295.525.2968 x9492\",\"website\":\"http://www.kris.com/eaque-eos-fuga-unde-enim-quo-repudiandae-ratione\",\"address\":\"10550 Olaf Road\\nSouth Reillyport, AL 52985\",\"status\":\"active\",\"_links\":{\"self\":{\"href\":\"https://gorest.co.in/public-api/users/860\"},\"edit\":{\"href\":\"https://gorest.co.in/public-api/users/860\"},\"avatar\":{\"href\":\"https://lorempixel.com/250/250/people/?78633\"}}},{\"id\":\"861\",\"first_name\":\"ANora\",\"last_name\":\"Kubo\",\"gender\":\"female\",\"dob\":\"1991-08-03\",\"email\":\"nader.anora@example.com\",\"phone\":\"1-481-555-8759 x32594\",\"website\":\"http://faheyanora.com/\",\"address\":\"22950 Hagenes Circle Suite 200\\nSchmelerfurt, OK 79763-9862\",\"status\":\"active\",\"_links\":{\"self\":{\"href\":\"https://gorest.co.in/public-api/users/861\"},\"edit\":{\"href\":\"https://gorest.co.in/public-api/users/861\"},\"avatar\":{\"href\":\"https://lorempixel.com/250/250/people/?78895\"}}},{\"id\":\"862\",\"first_name\":\"Cleveland\",\"last_name\":\"Johnson\",\"gender\":\"male\",\"dob\":\"1934-04-15\",\"email\":\"qfeest@example.org\",\"phone\":\"(301) 930-5684 x67255\",\"website\":\"http://volkman.com/\",\"address\":\"62041 Michale Field\\nNew Alexannetown, SD 28886-5732\",\"status\":\"active\",\"_links\":{\"self\":{\"href\":\"https://gorest.co.in/public-api/users/862\"},\"edit\":{\"href\":\"https://gorest.co.in/public-api/users/862\"},\"avatar\":{\"href\":\"https://lorempixel.com/250/250/people/?52250\"}}}]}\n",
            "Code: 200\n",
            "Content: {\"_meta\":{\"success\":true,\"code\":200,\"message\":\"OK. Everything worked as expected.\",\"rateLimit\":{\"limit\":30,\"remaining\":28,\"reset\":4}},\"result\":{\"id\":\"19285\",\"first_name\":\"devnet\",\"last_name\":\"assso\",\"gender\":\"male\",\"dob\":null,\"email\":\"email@ex.com\",\"phone\":null,\"website\":null,\"address\":null,\"status\":null,\"_links\":{\"self\":{\"href\":\"https://gorest.co.in/public-api/users/19285\"},\"edit\":{\"href\":\"https://gorest.co.in/public-api/users/19285\"},\"avatar\":{\"href\":null}}}}\n"
          ],
          "name": "stdout"
        }
      ]
    }
  ]
}