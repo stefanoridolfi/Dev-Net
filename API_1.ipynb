{
  "nbformat": 4,
  "nbformat_minor": 0,
  "metadata": {
    "colab": {
      "name": "Untitled4.ipynb",
      "provenance": [],
      "authorship_tag": "ABX9TyNX4a3oRkwQQdOIMI652nXj",
      "include_colab_link": true
    },
    "kernelspec": {
      "name": "python3",
      "display_name": "Python 3"
    }
  },
  "cells": [
    {
      "cell_type": "markdown",
      "metadata": {
        "id": "view-in-github",
        "colab_type": "text"
      },
      "source": [
        "<a href=\"https://colab.research.google.com/github/stefanoridolfi/Dev-Net/blob/master/API_1.ipynb\" target=\"_parent\"><img src=\"https://colab.research.google.com/assets/colab-badge.svg\" alt=\"Open In Colab\"/></a>"
      ]
    },
    {
      "cell_type": "code",
      "metadata": {
        "id": "W1NehvIMHZOA",
        "colab_type": "code",
        "colab": {}
      },
      "source": [
        "'''\n",
        "from google.colab import files\n",
        "from google.colab import drive\n",
        "#drive.mount('/content/drive')\n",
        "import sys\n",
        "#sys.path.append('/content/drive/My Drive/DEV-NET/Python_script')\n",
        "#print(sys.path)\n",
        "#!ls \"/content/drive/My Drive/DEV-NET/Python_script/\"\n",
        "'''\n",
        "import requests as req\n",
        "URI='https://github.com/apps/devnet-app/bb'\n",
        "response=req.get(URI)\n",
        "code=response.status_code\n",
        "print(\"Response code:\",code)\n",
        "if code==200:\n",
        "  print('Success')\n",
        "elif code==404:\n",
        "  print('Not found')  \n",
        "\n"
      ],
      "execution_count": 0,
      "outputs": []
    },
    {
      "cell_type": "code",
      "metadata": {
        "id": "wTQ3_2rIZ2Ns",
        "colab_type": "code",
        "colab": {}
      },
      "source": [
        "import json\n",
        "import requests as req\n",
        "token=\"DTEA2tPs2trtWrTIDwoc_Jxx-sTrGlFznAWk\"\n",
        "url='https://gorest.co.in/public-api/users'\n",
        "hed = {'Authorization': 'Bearer ' + token}\n",
        "data={\n",
        "    \"email\":\"email@ex3.com\",\n",
        "    \"first_name\": \"devnet\",\n",
        "    \"last_name\": \"assso\",\n",
        "    \"gender\": \"male\"\n",
        "}\n",
        "resp1=req.get(url,headers=hed)\n",
        "print(\"Code resp1 get:\",resp1.status_code)\n",
        "print(\"Content resp1 get :\",resp1.content.decode())\n",
        "resp2=req.post(url,json=data, headers=hed)\n",
        "print(\"Code resp2 post:\",resp2.status_code)\n",
        "print(\"Content resp2 post:\",resp2.content.decode())\n"
      ],
      "execution_count": 0,
      "outputs": []
    },
    {
      "cell_type": "markdown",
      "metadata": {
        "id": "4FwnlGNqX9L8",
        "colab_type": "text"
      },
      "source": [
        "Vedi https://gorest.co.in/ per i dettagli"
      ]
    }
  ]
}