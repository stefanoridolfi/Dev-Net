{
  "nbformat": 4,
  "nbformat_minor": 0,
  "metadata": {
    "colab": {
      "name": "Untitled4.ipynb",
      "provenance": [],
      "authorship_tag": "ABX9TyOgPFKzBeY6hORo+d9LkNpb",
      "include_colab_link": true
    },
    "kernelspec": {
      "name": "python3",
      "display_name": "Python 3"
    }
  },
  "cells": [
    {
      "cell_type": "markdown",
      "metadata": {
        "id": "view-in-github",
        "colab_type": "text"
      },
      "source": [
        "<a href=\"https://colab.research.google.com/github/stefanoridolfi/Dev-Net/blob/master/API_1.ipynb\" target=\"_parent\"><img src=\"https://colab.research.google.com/assets/colab-badge.svg\" alt=\"Open In Colab\"/></a>"
      ]
    },
    {
      "cell_type": "code",
      "metadata": {
        "id": "W1NehvIMHZOA",
        "colab_type": "code",
        "colab": {}
      },
      "source": [
        "'''\n",
        "from google.colab import files\n",
        "from google.colab import drive\n",
        "#drive.mount('/content/drive')\n",
        "import sys\n",
        "#sys.path.append('/content/drive/My Drive/DEV-NET/Python_script')\n",
        "#print(sys.path)\n",
        "#!ls \"/content/drive/My Drive/DEV-NET/Python_script/\"\n",
        "'''\n",
        "import requests as req\n",
        "URI='https://github.com/apps/devnet-app/bb'\n",
        "response=req.get(URI)\n",
        "code=response.status_code\n",
        "print(\"Response code:\",code)\n",
        "if code==200:\n",
        "  print('Success')\n",
        "elif code==404:\n",
        "  print('Not found')  \n",
        "\n"
      ],
      "execution_count": 0,
      "outputs": []
    },
    {
      "cell_type": "code",
      "metadata": {
        "id": "wTQ3_2rIZ2Ns",
        "colab_type": "code",
        "colab": {
          "base_uri": "https://localhost:8080/",
          "height": 649
        },
        "outputId": "758f0a21-6251-45e2-eab0-7da13ef84f16"
      },
      "source": [
        "import json\n",
        "import requests as req\n",
        "token=\"DTEA2tPs2trtWrTIDwoc_Jxx-sTrGlFznAWk\"\n",
        "url='https://gorest.co.in/public-api/users'\n",
        "url1='https://gorest.co.in/public-api/users/996'\n",
        "hed = {'Authorization': 'Bearer ' + token}\n",
        "data={\n",
        "    \"email\":\"x1@12345.com\",\n",
        "    \"first_name\": \"p\",\n",
        "    \"last_name\": \"q\",\n",
        "    \"gender\": \"male\"\n",
        "}\n",
        "\n",
        "\n",
        "\n",
        "# resp_all get all users\n",
        "resp_all=req.get(url,headers=hed)\n",
        "print(\"Code resp_all:\",resp_all.status_code)\n",
        "print(\"Content resp_all :\",resp_all.content.decode())\n",
        "json_all=json.loads(resp_all.content.decode())\n",
        "json_all_risu=json_all['result']\n",
        "for elem in json_all_risu:\n",
        "  print(\"elem\",elem,\"type\",type(elem))\n",
        "\n",
        "\n",
        "# resp_s get 1 users\n",
        "resp_s=req.get(url1,headers=hed)\n",
        "json_s=json.loads(resp_s.content.decode())\n",
        "json_s_risu=json_s['result']\n",
        "print(\"json_s_risu\",json_s_risu)\n",
        "for key in json_s_risu:\n",
        "  print(key,\":\",json_s_risu[key])\n",
        "\n",
        "\n",
        "'''\n",
        "\n",
        "resp_post_user=req.post(url,json=data, headers=hed)\n",
        "print(\"Code resp_post_user:\",resp_post_user.status_code)\n",
        "print(\"Content resp_post_user:\",resp_post_user.content.decode())\n",
        "'''\n",
        "resp3=req.delete(url,json={\"id\":\"20984\"}, headers=hed)\n",
        "print(\"Code resp3 delete:\",resp3.status_code)\n",
        "print(\"Content resp3 delete:\",resp3.content.decode())\n"
      ],
      "execution_count": 97,
      "outputs": [
        {
          "output_type": "stream",
          "text": [
            "Code resp_all: 200\n",
            "Content resp_all : {\"_meta\":{\"success\":true,\"code\":200,\"message\":\"OK. Everything worked as expected.\",\"totalCount\":2103,\"pageCount\":106,\"currentPage\":1,\"perPage\":20,\"rateLimit\":{\"limit\":30,\"remaining\":29,\"reset\":2}},\"result\":[{\"id\":\"996\",\"first_name\":\"Ivan\",\"last_name\":\"Petrov\",\"gender\":\"male\",\"dob\":\"1931-04-27\",\"email\":\"olen.macejkovic@example.com\",\"phone\":\"413-979-7386 x149\",\"website\":\"http://weimann.org/ullam-nihil-distinctio-ut-qui-illum\",\"address\":\"5366 Reinhold Way Apt. 452West Asiaburgh, HI 21708\",\"status\":\"active\",\"_links\":{\"self\":{\"href\":\"https://gorest.co.in/public-api/users/996\"},\"edit\":{\"href\":\"https://gorest.co.in/public-api/users/996\"},\"avatar\":{\"href\":\"https://lorempixel.com/250/250/people/?54435\"}}},{\"id\":\"1029\",\"first_name\":\"Pearl\",\"last_name\":\"Hauck\",\"gender\":\"female\",\"dob\":\"1998-12-11\",\"email\":\"abc001@gmail.com\",\"phone\":\"1-852-453-1672\",\"website\":\"http://www.macejkovic.com/qui-repellat-excepturi-repellat-est-et.html\",\"address\":\"6527 Kerluke Knoll Suite 327\\nSouth Davonte, KS 01395-9076\",\"status\":\"active\",\"_links\":{\"self\":{\"href\":\"https://gorest.co.in/public-api/users/1029\"},\"edit\":{\"href\":\"https://gorest.co.in/public-api/users/1029\"},\"avatar\":{\"href\":\"https://lorempixel.com/250/250/people/?36558\"}}},{\"id\":\"1030\",\"first_name\":\"Bertram\",\"last_name\":\"Koss\",\"gender\":\"male\",\"dob\":\"1973-01-17\",\"email\":\"brenda.cremin@example.org\",\"phone\":\"+1 (460) 874-7842\",\"website\":\"http://collier.com/\",\"address\":\"7682 Skiles Greens Apt. 538\\nMacejkovicmouth, KY 48496-0075\",\"status\":\"active\",\"_links\":{\"self\":{\"href\":\"https://gorest.co.in/public-api/users/1030\"},\"edit\":{\"href\":\"https://gorest.co.in/public-api/users/1030\"},\"avatar\":{\"href\":\"https://lorempixel.com/250/250/people/?75252\"}}},{\"id\":\"1032\",\"first_name\":\"Rachel\",\"last_name\":\"Kunde\",\"gender\":\"female\",\"dob\":\"1998-03-08\",\"email\":\"kevon.kub@example.net\",\"phone\":\"736-680-3948\",\"website\":\"http://erdman.org/qui-tempora-et-ea-dolores-ut-omnis-autem\",\"address\":\"8904 Stanley Island\\nNorth Kipburgh, WI 79557\",\"status\":\"active\",\"_links\":{\"self\":{\"href\":\"https://gorest.co.in/public-api/users/1032\"},\"edit\":{\"href\":\"https://gorest.co.in/public-api/users/1032\"},\"avatar\":{\"href\":\"https://lorempixel.com/250/250/people/?81076\"}}},{\"id\":\"1033\",\"first_name\":\"Kiera\",\"last_name\":\"Schiller\",\"gender\":\"female\",\"dob\":\"1988-09-06\",\"email\":\"ujohnson@example.org\",\"phone\":\"1-652-329-8556\",\"website\":\"https://kuhlman.biz/officiis-mollitia-culpa-ex-est-tempore.html\",\"address\":\"982 Zieme Land Apt. 953\\nNew Solon, TN 03287-7722\",\"status\":\"active\",\"_links\":{\"self\":{\"href\":\"https://gorest.co.in/public-api/users/1033\"},\"edit\":{\"href\":\"https://gorest.co.in/public-api/users/1033\"},\"avatar\":{\"href\":\"https://lorempixel.com/250/250/people/?69843\"}}},{\"id\":\"1034\",\"first_name\":\"Curt\",\"last_name\":\"Howe\",\"gender\":\"male\",\"dob\":\"1937-12-05\",\"email\":\"gregory87@example.com\",\"phone\":\"(224) 477-8914 x816\",\"website\":\"http://www.berge.com/vero-molestiae-facilis-voluptatem-illum\",\"address\":\"406 Javonte Flat\\nWelchburgh, AK 83767\",\"status\":\"inactive\",\"_links\":{\"self\":{\"href\":\"https://gorest.co.in/public-api/users/1034\"},\"edit\":{\"href\":\"https://gorest.co.in/public-api/users/1034\"},\"avatar\":{\"href\":\"https://lorempixel.com/250/250/people/?17531\"}}},{\"id\":\"1037\",\"first_name\":\"Wanda\",\"last_name\":\"Lakin\",\"gender\":\"female\",\"dob\":\"1973-11-02\",\"email\":\"rmante@example.org\",\"phone\":\"1-889-461-0918 x4762\",\"website\":\"http://www.nolan.com/cupiditate-dolorem-et-aliquid.html\",\"address\":\"45852 Luettgen FieldsMitchellborough, IN 44466-9893\",\"status\":\"inactive\",\"_links\":{\"self\":{\"href\":\"https://gorest.co.in/public-api/users/1037\"},\"edit\":{\"href\":\"https://gorest.co.in/public-api/users/1037\"},\"avatar\":{\"href\":\"https://lorempixel.com/250/250/people/?49601\"}}},{\"id\":\"1039\",\"first_name\":\"August\",\"last_name\":\"Kuphal\",\"gender\":\"male\",\"dob\":\"2002-04-04\",\"email\":\"geovanny57@example.net\",\"phone\":\"1-723-893-2889 x47678\",\"website\":\"http://moore.com/cupiditate-optio-velit-porro-doloremque-culpa\",\"address\":\"788 Genevieve Parks Suite 011\\nVolkmantown, TN 41842\",\"status\":\"active\",\"_links\":{\"self\":{\"href\":\"https://gorest.co.in/public-api/users/1039\"},\"edit\":{\"href\":\"https://gorest.co.in/public-api/users/1039\"},\"avatar\":{\"href\":\"https://lorempixel.com/250/250/people/?24835\"}}},{\"id\":\"1040\",\"first_name\":\"Eden\",\"last_name\":\"Williamson\",\"gender\":\"female\",\"dob\":\"2010-01-01\",\"email\":\"effertz.maynard@example.com\",\"phone\":\"481.736.5055 x1939\",\"website\":\"https://www.rohan.biz/in-atque-aliquam-iste-deserunt-consectetur-numquam-possimus-excepturi\",\"address\":\"910 Ashlee Plains Suite 136\\nNew Aaronview, NC 66319-4679\",\"status\":\"active\",\"_links\":{\"self\":{\"href\":\"https://gorest.co.in/public-api/users/1040\"},\"edit\":{\"href\":\"https://gorest.co.in/public-api/users/1040\"},\"avatar\":{\"href\":\"https://lorempixel.com/250/250/people/?28720\"}}},{\"id\":\"1041\",\"first_name\":\"Alexandra\",\"last_name\":\"Hackett\",\"gender\":\"female\",\"dob\":\"1978-12-02\",\"email\":\"hamill.arlo@example.net\",\"phone\":\"1-379-295-3128 x253\",\"website\":\"https://www.dubuque.com/et-quasi-corporis-enim-quaerat-vel-similique\",\"address\":\"31208 Prohaska Stream\\nGrantside, MO 74919\",\"status\":\"active\",\"_links\":{\"self\":{\"href\":\"https://gorest.co.in/public-api/users/1041\"},\"edit\":{\"href\":\"https://gorest.co.in/public-api/users/1041\"},\"avatar\":{\"href\":\"https://lorempixel.com/250/250/people/?74850\"}}},{\"id\":\"1048\",\"first_name\":\"Darrin\",\"last_name\":\"Schultz\",\"gender\":\"male\",\"dob\":\"2003-03-21\",\"email\":\"aokeefe@example.net\",\"phone\":\"+1 (451) 701-2693\",\"website\":\"http://hettinger.org/laudantium-ex-enim-nulla-consequuntur-maiores-fugit-voluptatem.html\",\"address\":\"727 Ceasar Expressway Apt. 638\\nFayview, MA 05082\",\"status\":\"inactive\",\"_links\":{\"self\":{\"href\":\"https://gorest.co.in/public-api/users/1048\"},\"edit\":{\"href\":\"https://gorest.co.in/public-api/users/1048\"},\"avatar\":{\"href\":\"https://lorempixel.com/250/250/people/?10108\"}}},{\"id\":\"1051\",\"first_name\":\"Lemuel\",\"last_name\":\"Ullrich\",\"gender\":\"male\",\"dob\":\"1946-06-24\",\"email\":\"blake72@example.org\",\"phone\":\"+13487712480\",\"website\":\"http://www.torp.info/iusto-et-aut-dolores-inventore-consequuntur-cumque\",\"address\":\"48662 Chance Mission Apt. 476\\nLysannetown, VA 46544\",\"status\":\"inactive\",\"_links\":{\"self\":{\"href\":\"https://gorest.co.in/public-api/users/1051\"},\"edit\":{\"href\":\"https://gorest.co.in/public-api/users/1051\"},\"avatar\":{\"href\":\"https://lorempixel.com/250/250/people/?91008\"}}},{\"id\":\"1052\",\"first_name\":\"Christian\",\"last_name\":\"Kulas\",\"gender\":\"male\",\"dob\":\"1966-06-18\",\"email\":\"willis.huels@example.org\",\"phone\":\"797-774-4390 x6021\",\"website\":\"http://zemlak.com/inventore-dignissimos-repudiandae-accusantium\",\"address\":\"84161 Edward Light\\nSouth Prince, NJ 36907\",\"status\":\"inactive\",\"_links\":{\"self\":{\"href\":\"https://gorest.co.in/public-api/users/1052\"},\"edit\":{\"href\":\"https://gorest.co.in/public-api/users/1052\"},\"avatar\":{\"href\":\"https://lorempixel.com/250/250/people/?58013\"}}},{\"id\":\"1053\",\"first_name\":\"Kitty\",\"last_name\":\"Wunsch\",\"gender\":\"female\",\"dob\":\"1936-08-31\",\"email\":\"schmidt.creola@example.com\",\"phone\":\"1-590-800-4154 x727\",\"website\":\"https://www.johnston.com/quia-et-dolor-consequatur-fuga\",\"address\":\"892 Ernestine Rest\\nEast Trevion, LA 16758\",\"status\":\"active\",\"_links\":{\"self\":{\"href\":\"https://gorest.co.in/public-api/users/1053\"},\"edit\":{\"href\":\"https://gorest.co.in/public-api/users/1053\"},\"avatar\":{\"href\":\"https://lorempixel.com/250/250/people/?10183\"}}},{\"id\":\"1054\",\"first_name\":\"Kaleigh\",\"last_name\":\"Zieme\",\"gender\":\"male\",\"dob\":\"1935-07-20\",\"email\":\"lane.ullrich@example.net\",\"phone\":\"963.752.7347 x763\",\"website\":\"http://www.grant.com/magni-mollitia-perspiciatis-dolorum-vero-et-maxime.html\",\"address\":\"209 Sonya Viaduct Suite 776\\nWest Marleestad, RI 80719-2888\",\"status\":\"inactive\",\"_links\":{\"self\":{\"href\":\"https://gorest.co.in/public-api/users/1054\"},\"edit\":{\"href\":\"https://gorest.co.in/public-api/users/1054\"},\"avatar\":{\"href\":\"https://lorempixel.com/250/250/people/?15557\"}}},{\"id\":\"1055\",\"first_name\":\"Hayley\",\"last_name\":\"Smitham\",\"gender\":\"male\",\"dob\":\"1921-05-02\",\"email\":\"kiera53@example.net\",\"phone\":\"878.985.5810 x709\",\"website\":\"http://cremin.com/voluptatibus-quo-ea-dignissimos-esse-est-dolor-nobis\",\"address\":\"4912 Terry Mountain\\nLinnieville, MO 58936-9996\",\"status\":\"inactive\",\"_links\":{\"self\":{\"href\":\"https://gorest.co.in/public-api/users/1055\"},\"edit\":{\"href\":\"https://gorest.co.in/public-api/users/1055\"},\"avatar\":{\"href\":\"https://lorempixel.com/250/250/people/?27238\"}}},{\"id\":\"1056\",\"first_name\":\"Elsa\",\"last_name\":\"Kovacek\",\"gender\":\"female\",\"dob\":\"1928-11-16\",\"email\":\"sschuppe@example.com\",\"phone\":\"(263) 292-7377 x602\",\"website\":\"http://howe.com/\",\"address\":\"7545 Gustave Pine\\nWest Nasirview, TN 82672-1548\",\"status\":\"inactive\",\"_links\":{\"self\":{\"href\":\"https://gorest.co.in/public-api/users/1056\"},\"edit\":{\"href\":\"https://gorest.co.in/public-api/users/1056\"},\"avatar\":{\"href\":\"https://lorempixel.com/250/250/people/?10269\"}}},{\"id\":\"1057\",\"first_name\":\"Gladyce\",\"last_name\":\"Cole\",\"gender\":\"female\",\"dob\":\"1930-08-18\",\"email\":\"aklocko@example.org\",\"phone\":\"385.948.1279\",\"website\":\"http://langworth.com/dolor-temporibus-a-libero\",\"address\":\"958 Brain Lake Apt. 012\\nPort Destinee, NC 17255-2099\",\"status\":\"active\",\"_links\":{\"self\":{\"href\":\"https://gorest.co.in/public-api/users/1057\"},\"edit\":{\"href\":\"https://gorest.co.in/public-api/users/1057\"},\"avatar\":{\"href\":\"https://lorempixel.com/250/250/people/?59837\"}}},{\"id\":\"1060\",\"first_name\":\"Toby\",\"last_name\":\"Kling\",\"gender\":\"male\",\"dob\":\"1975-12-21\",\"email\":\"oconner.kyleigh@example.net\",\"phone\":\"640-475-9881 x893\",\"website\":\"http://hilpert.com/debitis-eveniet-voluptatem-laborum\",\"address\":\"846 O'Hara Stream Suite 622\\nGerholdmouth, CA 34912\",\"status\":\"inactive\",\"_links\":{\"self\":{\"href\":\"https://gorest.co.in/public-api/users/1060\"},\"edit\":{\"href\":\"https://gorest.co.in/public-api/users/1060\"},\"avatar\":{\"href\":\"https://lorempixel.com/250/250/people/?73965\"}}},{\"id\":\"1061\",\"first_name\":\"Mateo\",\"last_name\":\"Halvorson\",\"gender\":\"male\",\"dob\":\"1941-10-15\",\"email\":\"cummings.larue@example.com\",\"phone\":\"+14597529716\",\"website\":\"http://www.toy.org/consectetur-accusamus-qui-delectus-pariatur-omnis-autem\",\"address\":\"520 Elizabeth Common Apt. 392\\nPort Rocky, OH 87055\",\"status\":\"inactive\",\"_links\":{\"self\":{\"href\":\"https://gorest.co.in/public-api/users/1061\"},\"edit\":{\"href\":\"https://gorest.co.in/public-api/users/1061\"},\"avatar\":{\"href\":\"https://lorempixel.com/250/250/people/?95757\"}}}]}\n",
            "elem {'id': '996', 'first_name': 'Ivan', 'last_name': 'Petrov', 'gender': 'male', 'dob': '1931-04-27', 'email': 'olen.macejkovic@example.com', 'phone': '413-979-7386 x149', 'website': 'http://weimann.org/ullam-nihil-distinctio-ut-qui-illum', 'address': '5366 Reinhold Way Apt. 452West Asiaburgh, HI 21708', 'status': 'active', '_links': {'self': {'href': 'https://gorest.co.in/public-api/users/996'}, 'edit': {'href': 'https://gorest.co.in/public-api/users/996'}, 'avatar': {'href': 'https://lorempixel.com/250/250/people/?54435'}}} type <class 'dict'>\n",
            "elem {'id': '1029', 'first_name': 'Pearl', 'last_name': 'Hauck', 'gender': 'female', 'dob': '1998-12-11', 'email': 'abc001@gmail.com', 'phone': '1-852-453-1672', 'website': 'http://www.macejkovic.com/qui-repellat-excepturi-repellat-est-et.html', 'address': '6527 Kerluke Knoll Suite 327\\nSouth Davonte, KS 01395-9076', 'status': 'active', '_links': {'self': {'href': 'https://gorest.co.in/public-api/users/1029'}, 'edit': {'href': 'https://gorest.co.in/public-api/users/1029'}, 'avatar': {'href': 'https://lorempixel.com/250/250/people/?36558'}}} type <class 'dict'>\n",
            "elem {'id': '1030', 'first_name': 'Bertram', 'last_name': 'Koss', 'gender': 'male', 'dob': '1973-01-17', 'email': 'brenda.cremin@example.org', 'phone': '+1 (460) 874-7842', 'website': 'http://collier.com/', 'address': '7682 Skiles Greens Apt. 538\\nMacejkovicmouth, KY 48496-0075', 'status': 'active', '_links': {'self': {'href': 'https://gorest.co.in/public-api/users/1030'}, 'edit': {'href': 'https://gorest.co.in/public-api/users/1030'}, 'avatar': {'href': 'https://lorempixel.com/250/250/people/?75252'}}} type <class 'dict'>\n",
            "elem {'id': '1032', 'first_name': 'Rachel', 'last_name': 'Kunde', 'gender': 'female', 'dob': '1998-03-08', 'email': 'kevon.kub@example.net', 'phone': '736-680-3948', 'website': 'http://erdman.org/qui-tempora-et-ea-dolores-ut-omnis-autem', 'address': '8904 Stanley Island\\nNorth Kipburgh, WI 79557', 'status': 'active', '_links': {'self': {'href': 'https://gorest.co.in/public-api/users/1032'}, 'edit': {'href': 'https://gorest.co.in/public-api/users/1032'}, 'avatar': {'href': 'https://lorempixel.com/250/250/people/?81076'}}} type <class 'dict'>\n",
            "elem {'id': '1033', 'first_name': 'Kiera', 'last_name': 'Schiller', 'gender': 'female', 'dob': '1988-09-06', 'email': 'ujohnson@example.org', 'phone': '1-652-329-8556', 'website': 'https://kuhlman.biz/officiis-mollitia-culpa-ex-est-tempore.html', 'address': '982 Zieme Land Apt. 953\\nNew Solon, TN 03287-7722', 'status': 'active', '_links': {'self': {'href': 'https://gorest.co.in/public-api/users/1033'}, 'edit': {'href': 'https://gorest.co.in/public-api/users/1033'}, 'avatar': {'href': 'https://lorempixel.com/250/250/people/?69843'}}} type <class 'dict'>\n",
            "elem {'id': '1034', 'first_name': 'Curt', 'last_name': 'Howe', 'gender': 'male', 'dob': '1937-12-05', 'email': 'gregory87@example.com', 'phone': '(224) 477-8914 x816', 'website': 'http://www.berge.com/vero-molestiae-facilis-voluptatem-illum', 'address': '406 Javonte Flat\\nWelchburgh, AK 83767', 'status': 'inactive', '_links': {'self': {'href': 'https://gorest.co.in/public-api/users/1034'}, 'edit': {'href': 'https://gorest.co.in/public-api/users/1034'}, 'avatar': {'href': 'https://lorempixel.com/250/250/people/?17531'}}} type <class 'dict'>\n",
            "elem {'id': '1037', 'first_name': 'Wanda', 'last_name': 'Lakin', 'gender': 'female', 'dob': '1973-11-02', 'email': 'rmante@example.org', 'phone': '1-889-461-0918 x4762', 'website': 'http://www.nolan.com/cupiditate-dolorem-et-aliquid.html', 'address': '45852 Luettgen FieldsMitchellborough, IN 44466-9893', 'status': 'inactive', '_links': {'self': {'href': 'https://gorest.co.in/public-api/users/1037'}, 'edit': {'href': 'https://gorest.co.in/public-api/users/1037'}, 'avatar': {'href': 'https://lorempixel.com/250/250/people/?49601'}}} type <class 'dict'>\n",
            "elem {'id': '1039', 'first_name': 'August', 'last_name': 'Kuphal', 'gender': 'male', 'dob': '2002-04-04', 'email': 'geovanny57@example.net', 'phone': '1-723-893-2889 x47678', 'website': 'http://moore.com/cupiditate-optio-velit-porro-doloremque-culpa', 'address': '788 Genevieve Parks Suite 011\\nVolkmantown, TN 41842', 'status': 'active', '_links': {'self': {'href': 'https://gorest.co.in/public-api/users/1039'}, 'edit': {'href': 'https://gorest.co.in/public-api/users/1039'}, 'avatar': {'href': 'https://lorempixel.com/250/250/people/?24835'}}} type <class 'dict'>\n",
            "elem {'id': '1040', 'first_name': 'Eden', 'last_name': 'Williamson', 'gender': 'female', 'dob': '2010-01-01', 'email': 'effertz.maynard@example.com', 'phone': '481.736.5055 x1939', 'website': 'https://www.rohan.biz/in-atque-aliquam-iste-deserunt-consectetur-numquam-possimus-excepturi', 'address': '910 Ashlee Plains Suite 136\\nNew Aaronview, NC 66319-4679', 'status': 'active', '_links': {'self': {'href': 'https://gorest.co.in/public-api/users/1040'}, 'edit': {'href': 'https://gorest.co.in/public-api/users/1040'}, 'avatar': {'href': 'https://lorempixel.com/250/250/people/?28720'}}} type <class 'dict'>\n",
            "elem {'id': '1041', 'first_name': 'Alexandra', 'last_name': 'Hackett', 'gender': 'female', 'dob': '1978-12-02', 'email': 'hamill.arlo@example.net', 'phone': '1-379-295-3128 x253', 'website': 'https://www.dubuque.com/et-quasi-corporis-enim-quaerat-vel-similique', 'address': '31208 Prohaska Stream\\nGrantside, MO 74919', 'status': 'active', '_links': {'self': {'href': 'https://gorest.co.in/public-api/users/1041'}, 'edit': {'href': 'https://gorest.co.in/public-api/users/1041'}, 'avatar': {'href': 'https://lorempixel.com/250/250/people/?74850'}}} type <class 'dict'>\n",
            "elem {'id': '1048', 'first_name': 'Darrin', 'last_name': 'Schultz', 'gender': 'male', 'dob': '2003-03-21', 'email': 'aokeefe@example.net', 'phone': '+1 (451) 701-2693', 'website': 'http://hettinger.org/laudantium-ex-enim-nulla-consequuntur-maiores-fugit-voluptatem.html', 'address': '727 Ceasar Expressway Apt. 638\\nFayview, MA 05082', 'status': 'inactive', '_links': {'self': {'href': 'https://gorest.co.in/public-api/users/1048'}, 'edit': {'href': 'https://gorest.co.in/public-api/users/1048'}, 'avatar': {'href': 'https://lorempixel.com/250/250/people/?10108'}}} type <class 'dict'>\n",
            "elem {'id': '1051', 'first_name': 'Lemuel', 'last_name': 'Ullrich', 'gender': 'male', 'dob': '1946-06-24', 'email': 'blake72@example.org', 'phone': '+13487712480', 'website': 'http://www.torp.info/iusto-et-aut-dolores-inventore-consequuntur-cumque', 'address': '48662 Chance Mission Apt. 476\\nLysannetown, VA 46544', 'status': 'inactive', '_links': {'self': {'href': 'https://gorest.co.in/public-api/users/1051'}, 'edit': {'href': 'https://gorest.co.in/public-api/users/1051'}, 'avatar': {'href': 'https://lorempixel.com/250/250/people/?91008'}}} type <class 'dict'>\n",
            "elem {'id': '1052', 'first_name': 'Christian', 'last_name': 'Kulas', 'gender': 'male', 'dob': '1966-06-18', 'email': 'willis.huels@example.org', 'phone': '797-774-4390 x6021', 'website': 'http://zemlak.com/inventore-dignissimos-repudiandae-accusantium', 'address': '84161 Edward Light\\nSouth Prince, NJ 36907', 'status': 'inactive', '_links': {'self': {'href': 'https://gorest.co.in/public-api/users/1052'}, 'edit': {'href': 'https://gorest.co.in/public-api/users/1052'}, 'avatar': {'href': 'https://lorempixel.com/250/250/people/?58013'}}} type <class 'dict'>\n",
            "elem {'id': '1053', 'first_name': 'Kitty', 'last_name': 'Wunsch', 'gender': 'female', 'dob': '1936-08-31', 'email': 'schmidt.creola@example.com', 'phone': '1-590-800-4154 x727', 'website': 'https://www.johnston.com/quia-et-dolor-consequatur-fuga', 'address': '892 Ernestine Rest\\nEast Trevion, LA 16758', 'status': 'active', '_links': {'self': {'href': 'https://gorest.co.in/public-api/users/1053'}, 'edit': {'href': 'https://gorest.co.in/public-api/users/1053'}, 'avatar': {'href': 'https://lorempixel.com/250/250/people/?10183'}}} type <class 'dict'>\n",
            "elem {'id': '1054', 'first_name': 'Kaleigh', 'last_name': 'Zieme', 'gender': 'male', 'dob': '1935-07-20', 'email': 'lane.ullrich@example.net', 'phone': '963.752.7347 x763', 'website': 'http://www.grant.com/magni-mollitia-perspiciatis-dolorum-vero-et-maxime.html', 'address': '209 Sonya Viaduct Suite 776\\nWest Marleestad, RI 80719-2888', 'status': 'inactive', '_links': {'self': {'href': 'https://gorest.co.in/public-api/users/1054'}, 'edit': {'href': 'https://gorest.co.in/public-api/users/1054'}, 'avatar': {'href': 'https://lorempixel.com/250/250/people/?15557'}}} type <class 'dict'>\n",
            "elem {'id': '1055', 'first_name': 'Hayley', 'last_name': 'Smitham', 'gender': 'male', 'dob': '1921-05-02', 'email': 'kiera53@example.net', 'phone': '878.985.5810 x709', 'website': 'http://cremin.com/voluptatibus-quo-ea-dignissimos-esse-est-dolor-nobis', 'address': '4912 Terry Mountain\\nLinnieville, MO 58936-9996', 'status': 'inactive', '_links': {'self': {'href': 'https://gorest.co.in/public-api/users/1055'}, 'edit': {'href': 'https://gorest.co.in/public-api/users/1055'}, 'avatar': {'href': 'https://lorempixel.com/250/250/people/?27238'}}} type <class 'dict'>\n",
            "elem {'id': '1056', 'first_name': 'Elsa', 'last_name': 'Kovacek', 'gender': 'female', 'dob': '1928-11-16', 'email': 'sschuppe@example.com', 'phone': '(263) 292-7377 x602', 'website': 'http://howe.com/', 'address': '7545 Gustave Pine\\nWest Nasirview, TN 82672-1548', 'status': 'inactive', '_links': {'self': {'href': 'https://gorest.co.in/public-api/users/1056'}, 'edit': {'href': 'https://gorest.co.in/public-api/users/1056'}, 'avatar': {'href': 'https://lorempixel.com/250/250/people/?10269'}}} type <class 'dict'>\n",
            "elem {'id': '1057', 'first_name': 'Gladyce', 'last_name': 'Cole', 'gender': 'female', 'dob': '1930-08-18', 'email': 'aklocko@example.org', 'phone': '385.948.1279', 'website': 'http://langworth.com/dolor-temporibus-a-libero', 'address': '958 Brain Lake Apt. 012\\nPort Destinee, NC 17255-2099', 'status': 'active', '_links': {'self': {'href': 'https://gorest.co.in/public-api/users/1057'}, 'edit': {'href': 'https://gorest.co.in/public-api/users/1057'}, 'avatar': {'href': 'https://lorempixel.com/250/250/people/?59837'}}} type <class 'dict'>\n",
            "elem {'id': '1060', 'first_name': 'Toby', 'last_name': 'Kling', 'gender': 'male', 'dob': '1975-12-21', 'email': 'oconner.kyleigh@example.net', 'phone': '640-475-9881 x893', 'website': 'http://hilpert.com/debitis-eveniet-voluptatem-laborum', 'address': \"846 O'Hara Stream Suite 622\\nGerholdmouth, CA 34912\", 'status': 'inactive', '_links': {'self': {'href': 'https://gorest.co.in/public-api/users/1060'}, 'edit': {'href': 'https://gorest.co.in/public-api/users/1060'}, 'avatar': {'href': 'https://lorempixel.com/250/250/people/?73965'}}} type <class 'dict'>\n",
            "elem {'id': '1061', 'first_name': 'Mateo', 'last_name': 'Halvorson', 'gender': 'male', 'dob': '1941-10-15', 'email': 'cummings.larue@example.com', 'phone': '+14597529716', 'website': 'http://www.toy.org/consectetur-accusamus-qui-delectus-pariatur-omnis-autem', 'address': '520 Elizabeth Common Apt. 392\\nPort Rocky, OH 87055', 'status': 'inactive', '_links': {'self': {'href': 'https://gorest.co.in/public-api/users/1061'}, 'edit': {'href': 'https://gorest.co.in/public-api/users/1061'}, 'avatar': {'href': 'https://lorempixel.com/250/250/people/?95757'}}} type <class 'dict'>\n",
            "json_s_risu {'id': '996', 'first_name': 'Ivan', 'last_name': 'Petrov', 'gender': 'male', 'dob': '1931-04-27', 'email': 'olen.macejkovic@example.com', 'phone': '413-979-7386 x149', 'website': 'http://weimann.org/ullam-nihil-distinctio-ut-qui-illum', 'address': '5366 Reinhold Way Apt. 452West Asiaburgh, HI 21708', 'status': 'active', '_links': {'self': {'href': 'https://gorest.co.in/public-api/users/996'}, 'edit': {'href': 'https://gorest.co.in/public-api/users/996'}, 'avatar': {'href': 'https://lorempixel.com/250/250/people/?54435'}}}\n",
            "id : 996\n",
            "first_name : Ivan\n",
            "last_name : Petrov\n",
            "gender : male\n",
            "dob : 1931-04-27\n",
            "email : olen.macejkovic@example.com\n",
            "phone : 413-979-7386 x149\n",
            "website : http://weimann.org/ullam-nihil-distinctio-ut-qui-illum\n",
            "address : 5366 Reinhold Way Apt. 452West Asiaburgh, HI 21708\n",
            "status : active\n",
            "_links : {'self': {'href': 'https://gorest.co.in/public-api/users/996'}, 'edit': {'href': 'https://gorest.co.in/public-api/users/996'}, 'avatar': {'href': 'https://lorempixel.com/250/250/people/?54435'}}\n",
            "Code resp3 delete: 200\n",
            "Content resp3 delete: {\"_meta\":{\"success\":false,\"code\":405,\"message\":\"Method not allowed. Please check the Allow header for the allowed HTTP methods.\",\"allow\":\"GET, POST, HEAD, OPTIONS\"},\"result\":null}\n"
          ],
          "name": "stdout"
        }
      ]
    },
    {
      "cell_type": "markdown",
      "metadata": {
        "id": "4FwnlGNqX9L8",
        "colab_type": "text"
      },
      "source": [
        "Vedi https://gorest.co.in/ per i dettagli"
      ]
    }
  ]
}