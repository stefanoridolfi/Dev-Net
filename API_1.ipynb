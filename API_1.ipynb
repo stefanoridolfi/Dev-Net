{
  "nbformat": 4,
  "nbformat_minor": 0,
  "metadata": {
    "colab": {
      "name": "Untitled4.ipynb",
      "provenance": [],
      "authorship_tag": "ABX9TyMUsMWudta2vETpkbM1XSmD",
      "include_colab_link": true
    },
    "kernelspec": {
      "name": "python3",
      "display_name": "Python 3"
    }
  },
  "cells": [
    {
      "cell_type": "markdown",
      "metadata": {
        "id": "view-in-github",
        "colab_type": "text"
      },
      "source": [
        "<a href=\"https://colab.research.google.com/github/stefanoridolfi/Dev-Net/blob/master/API_1.ipynb\" target=\"_parent\"><img src=\"https://colab.research.google.com/assets/colab-badge.svg\" alt=\"Open In Colab\"/></a>"
      ]
    },
    {
      "cell_type": "code",
      "metadata": {
        "id": "W1NehvIMHZOA",
        "colab_type": "code",
        "colab": {}
      },
      "source": [
        "'''\n",
        "from google.colab import files\n",
        "from google.colab import drive\n",
        "#drive.mount('/content/drive')\n",
        "import sys\n",
        "#sys.path.append('/content/drive/My Drive/DEV-NET/Python_script')\n",
        "#print(sys.path)\n",
        "#!ls \"/content/drive/My Drive/DEV-NET/Python_script/\"\n",
        "'''"
      ],
      "execution_count": 0,
      "outputs": []
    }
  ]
}