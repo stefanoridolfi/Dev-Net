{
  "nbformat": 4,
  "nbformat_minor": 0,
  "metadata": {
    "colab": {
      "name": "dev_parsing_2.ipynb",
      "provenance": [],
      "collapsed_sections": [],
      "authorship_tag": "ABX9TyMafm29JChNfSQ9VaL/3nEM",
      "include_colab_link": true
    },
    "kernelspec": {
      "name": "python3",
      "display_name": "Python 3"
    }
  },
  "cells": [
    {
      "cell_type": "markdown",
      "metadata": {
        "id": "view-in-github",
        "colab_type": "text"
      },
      "source": [
        "<a href=\"https://colab.research.google.com/github/stefanoridolfi/Dev-Net/blob/master/dev_parsing_json_1_new.ipynb\" target=\"_parent\"><img src=\"https://colab.research.google.com/assets/colab-badge.svg\" alt=\"Open In Colab\"/></a>"
      ]
    },
    {
      "cell_type": "code",
      "metadata": {
        "id": "Nb-Hd34mDKNn",
        "colab_type": "code",
        "outputId": "92e35bf2-fe7b-4272-fd49-ecbe91632163",
        "colab": {
          "base_uri": "https://localhost:8080/",
          "height": 408
        }
      },
      "source": [
        "from google.colab import files\n",
        "from google.colab import drive\n",
        "import json\n",
        "#drive.mount('/content/drive')\n",
        "#!ls \"/content/drive/My Drive/DEV-NET/dataset/\"\n",
        "dev2='/content/drive/My Drive/DEV-NET/dataset/dev2.json'\n",
        "f = open(dev2, \"r\")\n",
        "text=f.read()\n",
        "f.close()\n",
        "print(\"file JSON -----------------------\\n\")\n",
        "print(text)\n",
        "print(\"-------------------\\n\")\n",
        "with open(dev2,\"r\") as f:\n",
        "  my_dict=json.load(f)\n",
        "print(my_dict) \n",
        "for key in my_dict:\n",
        "  print(key['gender'],key['name'] )\n",
        "  "
      ],
      "execution_count": 13,
      "outputs": [
        {
          "output_type": "stream",
          "text": [
            "file JSON -----------------------\n",
            "\n",
            "[\n",
            "{\n",
            "    \"gender\":\"male\",\n",
            "    \"name\": \"Jeff Bezos\"\n",
            "},\n",
            "{\n",
            "    \"gender\":\"male\",\n",
            "    \"name\": \"Elon Musk\"\n",
            "},\n",
            "{\n",
            "    \"gender\":\"female\",\n",
            "    \"name\": \"Jessica Alba\"\n",
            "}\n",
            " \n",
            "]\n",
            "-------------------\n",
            "\n",
            "[{'gender': 'male', 'name': 'Jeff Bezos'}, {'gender': 'male', 'name': 'Elon Musk'}, {'gender': 'female', 'name': 'Jessica Alba'}]\n",
            "male Jeff Bezos\n",
            "male Elon Musk\n",
            "female Jessica Alba\n"
          ],
          "name": "stdout"
        }
      ]
    },
    {
      "cell_type": "code",
      "metadata": {
        "id": "dfOx6ydkFMuC",
        "colab_type": "code",
        "colab": {}
      },
      "source": [
        ""
      ],
      "execution_count": 0,
      "outputs": []
    }
  ]
}