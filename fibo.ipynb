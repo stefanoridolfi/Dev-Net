{
  "nbformat": 4,
  "nbformat_minor": 0,
  "metadata": {
    "colab": {
      "name": "dev_parsing_2.ipynb",
      "provenance": [],
      "collapsed_sections": [],
      "include_colab_link": true
    },
    "kernelspec": {
      "name": "python3",
      "display_name": "Python 3"
    }
  },
  "cells": [
    {
      "cell_type": "markdown",
      "metadata": {
        "id": "view-in-github",
        "colab_type": "text"
      },
      "source": [
        "<a href=\"https://colab.research.google.com/github/stefanoridolfi/Dev-Net/blob/master/fibo.ipynb\" target=\"_parent\"><img src=\"https://colab.research.google.com/assets/colab-badge.svg\" alt=\"Open In Colab\"/></a>"
      ]
    },
    {
      "cell_type": "code",
      "metadata": {
        "id": "Nb-Hd34mDKNn",
        "colab_type": "code",
        "outputId": "d2b2c5f2-5ea1-4a89-f56c-ce6f28d15588",
        "colab": {
          "base_uri": "https://localhost:8080/",
          "height": 51
        }
      },
      "source": [
        "from google.colab import files\n",
        "from google.colab import drive\n",
        "#drive.mount('/content/drive')\n",
        "import sys\n",
        "#sys.path.append('/content/drive/My Drive/DEV-NET/Python_script')\n",
        "#print(sys.path)\n",
        "#!ls \"/content/drive/My Drive/DEV-NET/Python_script/\"\n",
        "import Fibonacci\n",
        "Fibonacci.fib1(10)\n",
        "ris=Fibonacci.fib2(10)\n",
        "print(ris)"
      ],
      "execution_count": 24,
      "outputs": [
        {
          "output_type": "stream",
          "text": [
            "0 1 1 2 3 5 8 \n",
            "[0, 1, 1, 2, 3, 5, 8]\n"
          ],
          "name": "stdout"
        }
      ]
    },
    {
      "cell_type": "markdown",
      "metadata": {
        "id": "PAJVxXPEPJ4u",
        "colab_type": "text"
      },
      "source": [
        "Il file Fibonacci.py contiene il seguente codice:\n",
        "\n",
        "\n",
        "```\n",
        "def fib1(n):\n",
        "  x,y =0,1\n",
        "  while x<n:\n",
        "    print(x, end=' ')\n",
        "    x, y = y, x+y\n",
        "  print()\n",
        "def fib2(n):\n",
        "  result=[]\n",
        "  x,y = 0,1\n",
        "  while x<n:\n",
        "    result.append(x)\n",
        "    x,y= y,x+y\n",
        "  return result  \n",
        "```\n",
        "\n"
      ]
    },
    {
      "cell_type": "code",
      "metadata": {
        "id": "dfOx6ydkFMuC",
        "colab_type": "code",
        "colab": {}
      },
      "source": [
        ""
      ],
      "execution_count": 0,
      "outputs": []
    }
  ]
}