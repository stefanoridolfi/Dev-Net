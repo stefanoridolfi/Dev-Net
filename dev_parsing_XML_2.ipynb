{
  "nbformat": 4,
  "nbformat_minor": 0,
  "metadata": {
    "colab": {
      "name": "dev_parsing_2.ipynb",
      "provenance": [],
      "collapsed_sections": [],
      "authorship_tag": "ABX9TyPUH8aixPGVf02aX28m8O5n",
      "include_colab_link": true
    },
    "kernelspec": {
      "name": "python3",
      "display_name": "Python 3"
    }
  },
  "cells": [
    {
      "cell_type": "markdown",
      "metadata": {
        "id": "view-in-github",
        "colab_type": "text"
      },
      "source": [
        "<a href=\"https://colab.research.google.com/github/stefanoridolfi/Dev-Net/blob/master/dev_parsing_XML_2.ipynb\" target=\"_parent\"><img src=\"https://colab.research.google.com/assets/colab-badge.svg\" alt=\"Open In Colab\"/></a>"
      ]
    },
    {
      "cell_type": "code",
      "metadata": {
        "id": "Nb-Hd34mDKNn",
        "colab_type": "code",
        "outputId": "a26935e4-e171-4d38-df51-bf8944e8bee0",
        "colab": {
          "base_uri": "https://localhost:8080/",
          "height": 493
        }
      },
      "source": [
        "import xml.etree.ElementTree as ET\n",
        "from xml.dom import minidom\n",
        "from google.colab import files\n",
        "from google.colab import drive\n",
        "#drive.mount('/content/drive')\n",
        "#!ls \"/content/drive/My Drive/DEV-NET/dataset/\"\n",
        "print(\"file XML -----------------------\\n\")\n",
        "f = open(dev1, \"r\")\n",
        "print(f.read())\n",
        "print(\"-------------------\\n\")\n",
        "\n",
        "dev1='/content/drive/My Drive/DEV-NET/dataset/dev1.xml'\n",
        "doc=minidom.parse(dev1)\n",
        "elements=doc.getElementsByTagName(\"element\")\n",
        "for element in elements:\n",
        "  name=element.getElementsByTagName(\"name\")[0]\n",
        "  print(\"name:\",name.firstChild.data)\n",
        "  gender=element.getElementsByTagName(\"gender\")[0]\n",
        "  print(\"gender:\",gender.firstChild.data)\n",
        "  print(\"name: %s   gender: %s\" % (name.firstChild.data,gender.firstChild.data))\n",
        " \n"
      ],
      "execution_count": 0,
      "outputs": [
        {
          "output_type": "stream",
          "text": [
            "file XML -----------------------\n",
            "\n",
            "<?xml version=\"1.0\" encoding=\"UTF-8\"?>\n",
            " <persons>\n",
            "   <element>\n",
            "     <gender>male</gender>\n",
            "     <name>Jeff Bezos</name>\n",
            "   </element>\n",
            "   <element>\n",
            "     <gender>male</gender>\n",
            "     <name>Elon Musk</name>\n",
            "   </element>\n",
            "   <element>\n",
            "     <gender>female</gender>\n",
            "     <name>Jessica Alba</name>\n",
            "   </element>\n",
            " </persons>\n",
            "-------------------\n",
            "\n",
            "name: Jeff Bezos\n",
            "gender: male\n",
            "name: Jeff Bezos   gender: male\n",
            "name: Elon Musk\n",
            "gender: male\n",
            "name: Elon Musk   gender: male\n",
            "name: Jessica Alba\n",
            "gender: female\n",
            "name: Jessica Alba   gender: female\n"
          ],
          "name": "stdout"
        }
      ]
    },
    {
      "cell_type": "code",
      "metadata": {
        "id": "dfOx6ydkFMuC",
        "colab_type": "code",
        "colab": {}
      },
      "source": [
        ""
      ],
      "execution_count": 0,
      "outputs": []
    }
  ]
}