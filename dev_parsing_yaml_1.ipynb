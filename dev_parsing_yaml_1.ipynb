{
  "nbformat": 4,
  "nbformat_minor": 0,
  "metadata": {
    "colab": {
      "name": "dev_parsing_2.ipynb",
      "provenance": [],
      "collapsed_sections": [],
      "authorship_tag": "ABX9TyPrstVR1sqUTyHL2qoKBkdI",
      "include_colab_link": true
    },
    "kernelspec": {
      "name": "python3",
      "display_name": "Python 3"
    }
  },
  "cells": [
    {
      "cell_type": "markdown",
      "metadata": {
        "id": "view-in-github",
        "colab_type": "text"
      },
      "source": [
        "<a href=\"https://colab.research.google.com/github/stefanoridolfi/Dev-Net/blob/master/dev_parsing_yaml_1.ipynb\" target=\"_parent\"><img src=\"https://colab.research.google.com/assets/colab-badge.svg\" alt=\"Open In Colab\"/></a>"
      ]
    },
    {
      "cell_type": "code",
      "metadata": {
        "id": "Nb-Hd34mDKNn",
        "colab_type": "code",
        "outputId": "ff0573e7-d8f8-4f34-a3e8-c35b584bc4f1",
        "colab": {
          "base_uri": "https://localhost:8080/",
          "height": 289
        }
      },
      "source": [
        "from google.colab import files\n",
        "from google.colab import drive\n",
        "import yaml\n",
        "drive.mount('/content/drive')\n",
        "#!ls \"/content/drive/My Drive/DEV-NET/dataset/\"\n",
        "dev3='/content/drive/My Drive/DEV-NET/dataset/dev3.yaml'\n",
        "f = open(dev3, \"r\")\n",
        "text=f.read()\n",
        "f.close()\n",
        "print(\"file YAML -----------------------\")\n",
        "print(text)\n",
        "print(\"-------------------\")\n",
        "with open(dev3,\"r\") as f:\n",
        "  my_dict=yaml.safe_load(f)\n",
        "print(my_dict) \n",
        "for key in my_dict:\n",
        "  #print(key['gender'],key['name'] )\n",
        "  print(\"key\",key)\n",
        "  print(\"type:\",type(my_dict))\n",
        "# NB: yaml.safe_load NON ritorna un dizionario ma una lista !!"
      ],
      "execution_count": 15,
      "outputs": [
        {
          "output_type": "stream",
          "text": [
            "Drive already mounted at /content/drive; to attempt to forcibly remount, call drive.mount(\"/content/drive\", force_remount=True).\n",
            "file YAML -----------------------\n",
            "- gender:male\n",
            "  name:Jeff Bezos\n",
            "- gender:male\n",
            "  name:Elon Musk\n",
            "- gender:female\n",
            "  name:Jessica Alba\n",
            "-------------------\n",
            "['gender:male name:Jeff Bezos', 'gender:male name:Elon Musk', 'gender:female name:Jessica Alba']\n",
            "key gender:male name:Jeff Bezos\n",
            "type: <class 'list'>\n",
            "key gender:male name:Elon Musk\n",
            "type: <class 'list'>\n",
            "key gender:female name:Jessica Alba\n",
            "type: <class 'list'>\n"
          ],
          "name": "stdout"
        }
      ]
    },
    {
      "cell_type": "code",
      "metadata": {
        "id": "dfOx6ydkFMuC",
        "colab_type": "code",
        "colab": {}
      },
      "source": [
        ""
      ],
      "execution_count": 0,
      "outputs": []
    }
  ]
}