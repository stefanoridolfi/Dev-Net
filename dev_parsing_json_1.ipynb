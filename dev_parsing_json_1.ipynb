{
  "nbformat": 4,
  "nbformat_minor": 0,
  "metadata": {
    "colab": {
      "name": "dev_parsing_2.ipynb",
      "provenance": [],
      "collapsed_sections": [],
      "authorship_tag": "ABX9TyPgtIpgg8CJ1TE+Lgydu/kF",
      "include_colab_link": true
    },
    "kernelspec": {
      "name": "python3",
      "display_name": "Python 3"
    }
  },
  "cells": [
    {
      "cell_type": "markdown",
      "metadata": {
        "id": "view-in-github",
        "colab_type": "text"
      },
      "source": [
        "<a href=\"https://colab.research.google.com/github/stefanoridolfi/Dev-Net/blob/master/dev_parsing_json_1.ipynb\" target=\"_parent\"><img src=\"https://colab.research.google.com/assets/colab-badge.svg\" alt=\"Open In Colab\"/></a>"
      ]
    },
    {
      "cell_type": "code",
      "metadata": {
        "id": "Nb-Hd34mDKNn",
        "colab_type": "code",
        "outputId": "f0c731ef-0f1e-4e80-bf34-7c35c51c33ab",
        "colab": {
          "base_uri": "https://localhost:8080/",
          "height": 357
        }
      },
      "source": [
        "from google.colab import files\n",
        "from google.colab import drive\n",
        "drive.mount('/content/drive')\n",
        "#!ls \"/content/drive/My Drive/DEV-NET/dataset/\"\n",
        "dev2='/content/drive/My Drive/DEV-NET/dataset/dev2.json'\n",
        "print(\"file JSON -----------------------\\n\")\n",
        "f = open(dev2, \"r\")\n",
        "print(f.read())\n",
        "print(\"-------------------\\n\")\n",
        "dev2='/content/drive/My Drive/DEV-NET/dataset/dev2.json'\n",
        " \n"
      ],
      "execution_count": 49,
      "outputs": [
        {
          "output_type": "stream",
          "text": [
            "Drive already mounted at /content/drive; to attempt to forcibly remount, call drive.mount(\"/content/drive\", force_remount=True).\n",
            "file JSON -----------------------\n",
            "\n",
            "[\n",
            "{\n",
            "    \"gender\":\"male\",\n",
            "    \"name\": \"Jeff Bezos\"\n",
            "},\n",
            "{\n",
            "    \"gender\":\"male\",\n",
            "    \"name\": \"Elon Musk\"\n",
            "},\n",
            "{\n",
            "    \"gender\":\"female\",\n",
            "    \"name\": \"Jessica Alba\"\n",
            "}\n",
            " \n",
            "]\n",
            "-------------------\n",
            "\n"
          ],
          "name": "stdout"
        }
      ]
    },
    {
      "cell_type": "code",
      "metadata": {
        "id": "dfOx6ydkFMuC",
        "colab_type": "code",
        "colab": {}
      },
      "source": [
        ""
      ],
      "execution_count": 0,
      "outputs": []
    }
  ]
}