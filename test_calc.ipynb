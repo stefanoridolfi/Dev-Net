{
  "nbformat": 4,
  "nbformat_minor": 0,
  "metadata": {
    "colab": {
      "name": "dev_parsing_2.ipynb",
      "provenance": [],
      "collapsed_sections": [],
      "include_colab_link": true
    },
    "kernelspec": {
      "name": "python3",
      "display_name": "Python 3"
    }
  },
  "cells": [
    {
      "cell_type": "markdown",
      "metadata": {
        "id": "view-in-github",
        "colab_type": "text"
      },
      "source": [
        "<a href=\"https://colab.research.google.com/github/stefanoridolfi/Dev-Net/blob/master/test_calc.ipynb\" target=\"_parent\"><img src=\"https://colab.research.google.com/assets/colab-badge.svg\" alt=\"Open In Colab\"/></a>"
      ]
    },
    {
      "cell_type": "code",
      "metadata": {
        "id": "Nb-Hd34mDKNn",
        "colab_type": "code",
        "outputId": "8a81b5fe-d058-41a9-eef6-41fb2a47dbc5",
        "colab": {
          "base_uri": "https://localhost:8080/",
          "height": 102
        }
      },
      "source": [
        "from google.colab import files\n",
        "from google.colab import drive\n",
        "#drive.mount('/content/drive')\n",
        "#!ls \"/content/drive/My Drive/DEV-NET/dataset/\"\n",
        "#dev3='/content/drive/My Drive/DEV-NET/dataset/dev3.yaml'\n",
        "import unittest\n",
        "class Calculator(object):\n",
        "  def subtract(self,x,y):\n",
        "    return (x-y)\n",
        "\n",
        "class TddPython(unittest.TestCase):\n",
        "  def test_calc_subtract_method(self):\n",
        "    calc=Calculator()\n",
        "    result=calc.subtract(4,1)\n",
        "    self.assertEqual(3,result)\n",
        "if __name__=='__main__':\n",
        "  #unittest.main()\n",
        "  unittest.main(argv=['first-arg-is-ignored'], exit=False)"
      ],
      "execution_count": 7,
      "outputs": [
        {
          "output_type": "stream",
          "text": [
            ".\n",
            "----------------------------------------------------------------------\n",
            "Ran 1 test in 0.001s\n",
            "\n",
            "OK\n"
          ],
          "name": "stderr"
        }
      ]
    },
    {
      "cell_type": "code",
      "metadata": {
        "id": "dfOx6ydkFMuC",
        "colab_type": "code",
        "colab": {}
      },
      "source": [
        ""
      ],
      "execution_count": 0,
      "outputs": []
    }
  ]
}