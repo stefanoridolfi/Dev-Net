{
  "nbformat": 4,
  "nbformat_minor": 0,
  "metadata": {
    "colab": {
      "name": "dev_parsing_2.ipynb",
      "provenance": [],
      "collapsed_sections": [],
      "include_colab_link": true
    },
    "kernelspec": {
      "name": "python3",
      "display_name": "Python 3"
    }
  },
  "cells": [
    {
      "cell_type": "markdown",
      "metadata": {
        "id": "view-in-github",
        "colab_type": "text"
      },
      "source": [
        "<a href=\"https://colab.research.google.com/github/stefanoridolfi/Dev-Net/blob/master/test_calc.ipynb\" target=\"_parent\"><img src=\"https://colab.research.google.com/assets/colab-badge.svg\" alt=\"Open In Colab\"/></a>"
      ]
    },
    {
      "cell_type": "code",
      "metadata": {
        "id": "Nb-Hd34mDKNn",
        "colab_type": "code",
        "outputId": "ff0573e7-d8f8-4f34-a3e8-c35b584bc4f1",
        "colab": {
          "base_uri": "https://localhost:8080/",
          "height": 289
        }
      },
      "source": [
        "from google.colab import files\n",
        "from google.colab import drive\n",
        "drive.mount('/content/drive')\n",
        "#!ls \"/content/drive/My Drive/DEV-NET/dataset/\"\n",
        "#dev3='/content/drive/My Drive/DEV-NET/dataset/dev3.yaml'\n",
        "import unittest\n",
        "class TddPython(unittest.Testcase):\n",
        "  multiple test cases\n",
        "  def test_calc_subtract_method(self):\n",
        "    calc=Calculator()\n",
        "    result=calc.subtract(4,1)\n",
        "    self.assertEqual(3,result)\n",
        "if __name__=='__main__':\n",
        "  unittest.main()"
      ],
      "execution_count": 0,
      "outputs": [
        {
          "output_type": "stream",
          "text": [
            "Drive already mounted at /content/drive; to attempt to forcibly remount, call drive.mount(\"/content/drive\", force_remount=True).\n",
            "file YAML -----------------------\n",
            "- gender:male\n",
            "  name:Jeff Bezos\n",
            "- gender:male\n",
            "  name:Elon Musk\n",
            "- gender:female\n",
            "  name:Jessica Alba\n",
            "-------------------\n",
            "['gender:male name:Jeff Bezos', 'gender:male name:Elon Musk', 'gender:female name:Jessica Alba']\n",
            "key gender:male name:Jeff Bezos\n",
            "type: <class 'list'>\n",
            "key gender:male name:Elon Musk\n",
            "type: <class 'list'>\n",
            "key gender:female name:Jessica Alba\n",
            "type: <class 'list'>\n"
          ],
          "name": "stdout"
        }
      ]
    },
    {
      "cell_type": "code",
      "metadata": {
        "id": "dfOx6ydkFMuC",
        "colab_type": "code",
        "colab": {}
      },
      "source": [
        ""
      ],
      "execution_count": 0,
      "outputs": []
    }
  ]
}