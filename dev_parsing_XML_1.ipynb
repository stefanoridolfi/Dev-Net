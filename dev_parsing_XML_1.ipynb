{
  "nbformat": 4,
  "nbformat_minor": 0,
  "metadata": {
    "colab": {
      "name": "Copy of dev_parsing_1.ipynb",
      "provenance": [],
      "collapsed_sections": [],
      "authorship_tag": "ABX9TyMKFoOstqQmZymQMucdF2pO",
      "include_colab_link": true
    },
    "kernelspec": {
      "name": "python3",
      "display_name": "Python 3"
    }
  },
  "cells": [
    {
      "cell_type": "markdown",
      "metadata": {
        "id": "view-in-github",
        "colab_type": "text"
      },
      "source": [
        "<a href=\"https://colab.research.google.com/github/stefanoridolfi/Dev-Net/blob/master/dev_parsing_XML_1.ipynb\" target=\"_parent\"><img src=\"https://colab.research.google.com/assets/colab-badge.svg\" alt=\"Open In Colab\"/></a>"
      ]
    },
    {
      "cell_type": "code",
      "metadata": {
        "id": "Nb-Hd34mDKNn",
        "colab_type": "code",
        "outputId": "505cd2aa-7582-4228-e6f2-1b0838e7ddad",
        "colab": {
          "base_uri": "https://localhost:8080/",
          "height": 646
        }
      },
      "source": [
        "import requests\n",
        "import xml.etree.ElementTree as ET\n",
        "from google.colab import files\n",
        "from google.colab import drive\n",
        "#drive.mount('/content/drive')\n",
        "#!ls \"/content/drive/My Drive/DEV-NET/dataset/\"\n",
        "'''\n",
        "f = open(dev1, \"r\")\n",
        "print(f.read())\n",
        "'''\n",
        "\n",
        "dev1='/content/drive/My Drive/DEV-NET/dataset/dev1.xml'\n",
        "tree = ET.parse(dev1)\n",
        "root = tree.getroot()\n",
        "print(\"root.tag:\",root.tag)\n",
        "print(ET.tostring(root,encoding= 'utf8').decode('utf8'))\n",
        "print(\"number of Elements\",len(root))\n",
        "print(\"number of sub Elements\",len(root[0]),\"\\n\")\n",
        "for elem in root:\n",
        "  for subelem in elem:\n",
        "    print(\"elemento:\",elem.text)\n",
        "    print(subelem.tag +\":\"+subelem.text)"
      ],
      "execution_count": 0,
      "outputs": [
        {
          "output_type": "stream",
          "text": [
            "root.tag: persons\n",
            "<?xml version='1.0' encoding='utf8'?>\n",
            "<persons>\n",
            "   <element>\n",
            "     <gender>male</gender>\n",
            "     <name>Jeff Bezos</name>\n",
            "   </element>\n",
            "   <element>\n",
            "     <gender>male</gender>\n",
            "     <name>Elon Musk</name>\n",
            "   </element>\n",
            "   <element>\n",
            "     <gender>female</gender>\n",
            "     <name>Jessica Alba</name>\n",
            "   </element>\n",
            " </persons>\n",
            "number of Elements 3\n",
            "number of sub Elements 2 \n",
            "\n",
            "elemento: \n",
            "     \n",
            "gender:male\n",
            "elemento: \n",
            "     \n",
            "name:Jeff Bezos\n",
            "elemento: \n",
            "     \n",
            "gender:male\n",
            "elemento: \n",
            "     \n",
            "name:Elon Musk\n",
            "elemento: \n",
            "     \n",
            "gender:female\n",
            "elemento: \n",
            "     \n",
            "name:Jessica Alba\n"
          ],
          "name": "stdout"
        }
      ]
    },
    {
      "cell_type": "code",
      "metadata": {
        "id": "dfOx6ydkFMuC",
        "colab_type": "code",
        "colab": {}
      },
      "source": [
        ""
      ],
      "execution_count": 0,
      "outputs": []
    }
  ]
}